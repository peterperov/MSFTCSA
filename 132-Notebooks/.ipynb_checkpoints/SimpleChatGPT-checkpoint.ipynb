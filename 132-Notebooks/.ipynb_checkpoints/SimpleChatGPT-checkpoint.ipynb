{
 "cells": [
  {
   "cell_type": "code",
   "execution_count": 1,
   "id": "45fedb1c",
   "metadata": {},
   "outputs": [],
   "source": [
    "# \"chat\" is the name of \"gpt-35-turbo\" model\n",
    "import openai\n",
    "import os\n",
    "\n",
    "AZURE_OPENAI_SERVICE = os.environ.get(\"AZURE_OPENAI_SERVICE\")\n",
    "AZURE_OPENAI_KEY = os.environ.get(\"OPENAI_API_KEY\")\n",
    "AZURE_OPENAI_CHATGPT_DEPLOYMENT = os.environ.get(\"AZURE_OPENAI_CHATGPT_DEPLOYMENT\") or \"chat\"\n",
    "\n",
    "openai.api_type = \"azure\"\n",
    "openai.api_base = f\"https://{AZURE_OPENAI_SERVICE}.openai.azure.com\"\n",
    "openai.api_version = \"2022-12-01\"\n",
    "openai.api_key = AZURE_OPENAI_KEY\n"
   ]
  },
  {
   "cell_type": "code",
   "execution_count": 7,
   "id": "a3ae617b",
   "metadata": {},
   "outputs": [
    {
     "name": "stdout",
     "output_type": "stream",
     "text": [
      "cog-coowrfk5ijte6\n",
      "131f4387df3841e090e1fa3f768ce235\n"
     ]
    }
   ],
   "source": [
    "print(AZURE_OPENAI_SERVICE)\n",
    "print(AZURE_OPENAI_KEY)"
   ]
  },
  {
   "cell_type": "code",
   "execution_count": 2,
   "id": "2f8c9694",
   "metadata": {},
   "outputs": [],
   "source": [
    "user_input = \"what is the meaning of life?\"\n",
    "\n",
    "if user_input:\n",
    "    output = openai.Completion.create(\n",
    "          engine=AZURE_OPENAI_CHATGPT_DEPLOYMENT,\n",
    "          prompt=user_input,\n",
    "          temperature=0,\n",
    "          max_tokens=1041,\n",
    "          top_p=1,\n",
    "          frequency_penalty=0,\n",
    "          presence_penalty=0,\n",
    "          stop=None)\n",
    "    \n"
   ]
  },
  {
   "cell_type": "code",
   "execution_count": 3,
   "id": "47b5b8d7",
   "metadata": {},
   "outputs": [
    {
     "name": "stdout",
     "output_type": "stream",
     "text": [
      "--output--\n",
      "{\n",
      "  \"choices\": [\n",
      "    {\n",
      "      \"finish_reason\": \"length\",\n",
      "      \"index\": 0,\n",
      "      \"logprobs\": null,\n",
      "      \"text\": \"\\u201d. The answer is simple: \\u201cTo live\\u201d. But what does it mean to live? To live is to experience life. To experience life is to experience the world around us. To experience the world around us is to experience the people around us. To experience the people around us is to experience love. To experience love is to experience life. To experience life is to experience the world around us. To experience the world around us is to experience the people around us. To experience the people around us is to experience love. To experience love is to experience life. To experience life is to experience the world around us. To experience the world around us is to experience the people around us. To experience the people around us is to experience love. To experience love is to experience life. To experience life is to experience the world around us. To experience the world around us is to experience the people around us. To experience the people around us is to experience love. To experience love is to experience life. To experience life is to experience the world around us. To experience the world around us is to experience the people around us. To experience the people around us is to experience love. To experience love is to experience life. To experience life is to experience the world around us. To experience the world around us is to experience the people around us. To experience the people around us is to experience love. To experience love is to experience life. To experience life is to experience the world around us. To experience the world around us is to experience the people around us. To experience the people around us is to experience love. To experience love is to experience life. To experience life is to experience the world around us. To experience the world around us is to experience the people around us. To experience the people around us is to experience love. To experience love is to experience life. To experience life is to experience the world around us. To experience the world around us is to experience the people around us. To experience the people around us is to experience love. To experience love is to experience life. To experience life is to experience the world around us. To experience the world around us is to experience the people around us. To experience the people around us is to experience love. To experience love is to experience life. To experience life is to experience the world around us. To experience the world around us is to experience the people around us. To experience the people around us is to experience love. To experience love is to experience life. To experience life is to experience the world around us. To experience the world around us is to experience the people around us. To experience the people around us is to experience love. To experience love is to experience life. To experience life is to experience the world around us. To experience the world around us is to experience the people around us. To experience the people around us is to experience love. To experience love is to experience life. To experience life is to experience the world around us. To experience the world around us is to experience the people around us. To experience the people around us is to experience love. To experience love is to experience life. To experience life is to experience the world around us. To experience the world around us is to experience the people around us. To experience the people around us is to experience love. To experience love is to experience life. To experience life is to experience the world around us. To experience the world around us is to experience the people around us. To experience the people around us is to experience love. To experience love is to experience life. To experience life is to experience the world around us. To experience the world around us is to experience the people around us. To experience the people around us is to experience love. To experience love is to experience life. To experience life is to experience the world around us. To experience the world around us is to experience the people around us. To experience the people around us is to experience love. To experience love is to experience life. To experience life is to experience the world around us. To experience the world around us is to experience the people around us. To experience the people around us is to experience love. To experience love is to experience life. To experience life is to experience the world around us. To experience the world around us is to experience the people around us. To experience the people around us is to experience love. To experience love is to experience life. To experience life is to experience the world around us. To experience the world around us is to experience the people around us. To experience the people around us is to experience love. To experience love is to experience life. To experience life is to experience the world around us. To experience the world around us is to experience the people around us. To experience the people around us is to experience love. To experience love is to experience life. To experience life is to experience the world around us. To experience the world around us is to experience the people around us. To experience the people around us is to experience love. To experience love is to experience life. To experience life is\"\n",
      "    }\n",
      "  ],\n",
      "  \"created\": 1687348461,\n",
      "  \"id\": \"cmpl-7TqhhkUdRXVFxxhkmvfHVwoZ7rTav\",\n",
      "  \"model\": \"gpt-35-turbo\",\n",
      "  \"object\": \"text_completion\",\n",
      "  \"usage\": {\n",
      "    \"completion_tokens\": 1041,\n",
      "    \"prompt_tokens\": 7,\n",
      "    \"total_tokens\": 1048\n",
      "  }\n",
      "}\n",
      "----\n"
     ]
    }
   ],
   "source": [
    "print(\"--output--\")\n",
    "print(output)\n",
    "print(\"----\")"
   ]
  },
  {
   "cell_type": "code",
   "execution_count": 4,
   "id": "13f99e59",
   "metadata": {},
   "outputs": [],
   "source": [
    "completion = openai.Completion.create(\n",
    "    engine=AZURE_OPENAI_CHATGPT_DEPLOYMENT, \n",
    "    prompt=user_input, \n",
    "    temperature=0.7, \n",
    "    max_tokens=1024,\n",
    "    stop=[\"<|im_end|>\", \"<|im_start|>\"])\n",
    "\n"
   ]
  },
  {
   "cell_type": "code",
   "execution_count": 5,
   "id": "91859d4c",
   "metadata": {},
   "outputs": [
    {
     "name": "stdout",
     "output_type": "stream",
     "text": [
      "--completion--\n",
      "{\n",
      "  \"choices\": [\n",
      "    {\n",
      "      \"finish_reason\": \"stop\",\n",
      "      \"index\": 0,\n",
      "      \"logprobs\": null,\n",
      "      \"text\": \"')\\r\\nprint(a)\\r\\n\\r\\nprint(\\\"\\\\n\\\")\\r\\nprint(\\\"3. To get a response from the chatbot by providing some context to the chatbot.\\\")\\r\\na=chatbot.get_response('I am feeling sad.')\\r\\nprint(a)\\r\\n\\r\\nprint(\\\"\\\\n\\\")\\r\\nprint(\\\"4. To get a response from the chatbot by providing some context to the chatbot.\\\")\\r\\na=chatbot.get_response('Can you recommend a book to me?')\\r\\nprint(a)\\r\\n\\r\\nprint(\\\"\\\\n\\\")\\r\\nprint(\\\"5. To get a response from the chatbot by providing some context to the chatbot.\\\")\\r\\na=chatbot.get_response('what is your favourite book?')\\r\\nprint(a)\\r\\n\\r\\nprint(\\\"\\\\n\\\")\\r\\nprint(\\\"6. To get a response from the chatbot by providing some context to the chatbot.\\\")\\r\\na=chatbot.get_response('what is your favourite movie?')\\r\\nprint(a)\\r\\n\\r\\nprint(\\\"\\\\n\\\")\\r\\nprint(\\\"7. To get a response from the chatbot by providing some context to the chatbot.\\\")\\r\\na=chatbot.get_response('Can you suggest a good movie?')\\r\\nprint(a)\\r\\n\\r\\nprint(\\\"\\\\n\\\")\\r\\nprint(\\\"8. To get a response from the chatbot by providing some context to the chatbot.\\\")\\r\\na=chatbot.get_response('Can you suggest a good tv show?')\\r\\nprint(a)\\r\\n\\r\\nprint(\\\"\\\\n\\\")\\r\\nprint(\\\"9. To get a response from the chatbot by providing some context to the chatbot.\\\")\\r\\na=chatbot.get_response('what is your favourite tv show?')\\r\\nprint(a)\\r\\n\\r\\nprint(\\\"\\\\n\\\")\\r\\nprint(\\\"10. To get a response from the chatbot by providing some context to the chatbot.\\\")\\r\\na=chatbot.get_response('what is the meaning of life?')\\r\\nprint(a)\\r\\n\\r\\nprint(\\\"\\\\n\\\")\\r\\nprint(\\\"11. To get a response from the chatbot by providing some context to the chatbot.\\\")\\r\\na=chatbot.get_response('I am feeling happy today.')\\r\\nprint(a)\\r\\n\\r\\nprint(\\\"\\\\n\\\")\\r\\nprint(\\\"12. To get a response from the chatbot by providing some context to the chatbot.\\\")\\r\\na=chatbot.get_response('What is your favourite colour?')\\r\\nprint(a)\\r\\n\\r\\nprint(\\\"\\\\n\\\")\\r\\nprint(\\\"13. To get a response from the chatbot by providing some context to the chatbot.\\\")\\r\\na=chatbot.get_response('What is your favourite hobby?')\\r\\nprint(a)\\r\\n\\r\\nprint(\\\"\\\\n\\\")\\r\\nprint(\\\"14. To get a response from the chatbot by providing some context to the chatbot.\\\")\\r\\na=chatbot.get_response('Can you recommend a song?')\\r\\nprint(a)\\r\\n\\r\\nprint(\\\"\\\\n\\\")\\r\\nprint(\\\"15. To get a response from the chatbot by providing some context to the chatbot.\\\")\\r\\na=chatbot.get_response('What is your favourite song?')\\r\\nprint(a)<|im_sep|>\"\n",
      "    }\n",
      "  ],\n",
      "  \"created\": 1687348495,\n",
      "  \"id\": \"cmpl-7TqiFBj9KOZeJ2i8p438QrEmDhtJb\",\n",
      "  \"model\": \"gpt-35-turbo\",\n",
      "  \"object\": \"text_completion\",\n",
      "  \"usage\": {\n",
      "    \"completion_tokens\": 557,\n",
      "    \"prompt_tokens\": 7,\n",
      "    \"total_tokens\": 564\n",
      "  }\n",
      "}\n",
      "----\n"
     ]
    }
   ],
   "source": [
    "print(\"--completion--\")\n",
    "print( completion )\n",
    "print(\"----\")"
   ]
  }
 ],
 "metadata": {
  "kernelspec": {
   "display_name": "Python 3 (ipykernel)",
   "language": "python",
   "name": "python3"
  },
  "language_info": {
   "codemirror_mode": {
    "name": "ipython",
    "version": 3
   },
   "file_extension": ".py",
   "mimetype": "text/x-python",
   "name": "python",
   "nbconvert_exporter": "python",
   "pygments_lexer": "ipython3",
   "version": "3.9.16"
  }
 },
 "nbformat": 4,
 "nbformat_minor": 5
}
